{
  "nbformat": 4,
  "nbformat_minor": 0,
  "metadata": {
    "colab": {
      "provenance": []
    },
    "kernelspec": {
      "name": "python3",
      "display_name": "Python 3"
    },
    "language_info": {
      "name": "python"
    }
  },
  "cells": [
    {
      "cell_type": "code",
      "execution_count": null,
      "metadata": {
        "id": "3pIGvomWusPe"
      },
      "outputs": [],
      "source": [
        "import pandas as pd\n",
        "import numpy as np"
      ]
    },
    {
      "cell_type": "code",
      "source": [
        "df=pd.read_csv(\"dataset_Facebook.csv\",sep=\";\")"
      ],
      "metadata": {
        "id": "aaGOLLWMu1H5"
      },
      "execution_count": null,
      "outputs": []
    },
    {
      "cell_type": "code",
      "source": [
        "df1=df[['Page total likes','Post Month','Post Weekday']].iloc[1:15]\n",
        "df2=df[['Page total likes','Post Month','Post Weekday']].iloc[15:30]\n",
        "df3=df[['Page total likes','Post Month','Post Weekday']].iloc[30:45]"
      ],
      "metadata": {
        "id": "OHtO2aJdvH-c"
      },
      "execution_count": null,
      "outputs": []
    },
    {
      "cell_type": "code",
      "source": [
        "df3"
      ],
      "metadata": {
        "id": "ooCaoZh2xbhB"
      },
      "execution_count": null,
      "outputs": []
    },
    {
      "cell_type": "markdown",
      "source": [
        "Merging\n"
      ],
      "metadata": {
        "id": "DDnZ2eqRyVS7"
      }
    },
    {
      "cell_type": "code",
      "source": [
        "merging=pd.concat([df1,df2,df3])"
      ],
      "metadata": {
        "id": "8pQvNEF5ybT_"
      },
      "execution_count": null,
      "outputs": []
    },
    {
      "cell_type": "code",
      "source": [
        "merging.shape"
      ],
      "metadata": {
        "colab": {
          "base_uri": "https://localhost:8080/"
        },
        "id": "as2aAmekyjqS",
        "outputId": "52b88152-4778-4923-dfb9-c1d6b822e1ef"
      },
      "execution_count": null,
      "outputs": [
        {
          "output_type": "execute_result",
          "data": {
            "text/plain": [
              "(44, 3)"
            ]
          },
          "metadata": {},
          "execution_count": 20
        }
      ]
    },
    {
      "cell_type": "markdown",
      "source": [
        "Sorting"
      ],
      "metadata": {
        "id": "oWamRt6cyqAH"
      }
    },
    {
      "cell_type": "code",
      "source": [
        "merging.sort_values(by='Post Weekday',ascending=False)"
      ],
      "metadata": {
        "id": "JpBsGlVxykvg"
      },
      "execution_count": null,
      "outputs": []
    },
    {
      "cell_type": "code",
      "source": [],
      "metadata": {
        "id": "KGmg3brby2U8"
      },
      "execution_count": null,
      "outputs": []
    }
  ]
}